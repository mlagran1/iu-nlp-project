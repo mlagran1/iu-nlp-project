{
 "cells": [
  {
   "cell_type": "code",
   "execution_count": 1,
   "metadata": {
    "id": "UdjNjcdGZjGn"
   },
   "outputs": [],
   "source": [
    "import matplotlib\n",
    "# matplotlib.use(\"TkAgg\") - you can check this out - external viewport for Figures\n",
    "from keras.datasets import imdb\n",
    "from keras.preprocessing import sequence\n",
    "from keras.models import Sequential\n",
    "from keras.layers import Embedding\n",
    "from keras.layers import Dense, Embedding\n",
    "from keras.layers import LSTM\n",
    "from matplotlib import pyplot as plt\n",
    "from sklearn.metrics import confusion_matrix\n",
    "import seaborn as sns\n",
    "from tensorflow.keras.callbacks import ModelCheckpoint   # save model\n",
    "from tensorflow.keras.models import load_model   # load saved model\n",
    "import re\n",
    "from tensorflow.keras.preprocessing.text import Tokenizer\n",
    "from tensorflow.keras.preprocessing.sequence import pad_sequences\n",
    "import pandas as pd\n",
    "import numpy as np"
   ]
  },
  {
   "cell_type": "code",
   "execution_count": 2,
   "metadata": {
    "id": "uCbqGfq9ZomB"
   },
   "outputs": [],
   "source": [
    "## Load Data"
   ]
  },
  {
   "cell_type": "code",
   "execution_count": 3,
   "metadata": {
    "id": "HHsXRdPMaCJF"
   },
   "outputs": [],
   "source": [
    "df = pd.read_csv('talking_head.csv')"
   ]
  },
  {
   "cell_type": "code",
   "execution_count": 4,
   "metadata": {
    "colab": {
     "base_uri": "https://localhost:8080/",
     "height": 206
    },
    "id": "UGFWfYJPaDrt",
    "outputId": "6797e18b-4774-42f6-f9b7-b653cbd9bbf4"
   },
   "outputs": [
    {
     "data": {
      "text/html": [
       "\n",
       "  <div id=\"df-4f0b7e90-6bf3-48eb-89a1-69f859c8079a\">\n",
       "    <div class=\"colab-df-container\">\n",
       "      <div>\n",
       "<style scoped>\n",
       "    .dataframe tbody tr th:only-of-type {\n",
       "        vertical-align: middle;\n",
       "    }\n",
       "\n",
       "    .dataframe tbody tr th {\n",
       "        vertical-align: top;\n",
       "    }\n",
       "\n",
       "    .dataframe thead th {\n",
       "        text-align: right;\n",
       "    }\n",
       "</style>\n",
       "<table border=\"1\" class=\"dataframe\">\n",
       "  <thead>\n",
       "    <tr style=\"text-align: right;\">\n",
       "      <th></th>\n",
       "      <th>quote_id</th>\n",
       "      <th>quote</th>\n",
       "      <th>character</th>\n",
       "    </tr>\n",
       "  </thead>\n",
       "  <tbody>\n",
       "    <tr>\n",
       "      <th>0</th>\n",
       "      <td>0</td>\n",
       "      <td>Yes, I’d like to speak to your office manager,...</td>\n",
       "      <td>Michael</td>\n",
       "    </tr>\n",
       "    <tr>\n",
       "      <th>1</th>\n",
       "      <td>1</td>\n",
       "      <td>People say I am the best boss. They go, “God w...</td>\n",
       "      <td>Michael</td>\n",
       "    </tr>\n",
       "    <tr>\n",
       "      <th>2</th>\n",
       "      <td>2</td>\n",
       "      <td>Corporate really doesn’t really interfere with...</td>\n",
       "      <td>Michael</td>\n",
       "    </tr>\n",
       "    <tr>\n",
       "      <th>3</th>\n",
       "      <td>3</td>\n",
       "      <td>Am I going to tell them? No, I am not going to...</td>\n",
       "      <td>Michael</td>\n",
       "    </tr>\n",
       "    <tr>\n",
       "      <th>4</th>\n",
       "      <td>4</td>\n",
       "      <td>I think I’m a role model here. I think I garne...</td>\n",
       "      <td>Michael</td>\n",
       "    </tr>\n",
       "  </tbody>\n",
       "</table>\n",
       "</div>\n",
       "      <button class=\"colab-df-convert\" onclick=\"convertToInteractive('df-4f0b7e90-6bf3-48eb-89a1-69f859c8079a')\"\n",
       "              title=\"Convert this dataframe to an interactive table.\"\n",
       "              style=\"display:none;\">\n",
       "        \n",
       "  <svg xmlns=\"http://www.w3.org/2000/svg\" height=\"24px\"viewBox=\"0 0 24 24\"\n",
       "       width=\"24px\">\n",
       "    <path d=\"M0 0h24v24H0V0z\" fill=\"none\"/>\n",
       "    <path d=\"M18.56 5.44l.94 2.06.94-2.06 2.06-.94-2.06-.94-.94-2.06-.94 2.06-2.06.94zm-11 1L8.5 8.5l.94-2.06 2.06-.94-2.06-.94L8.5 2.5l-.94 2.06-2.06.94zm10 10l.94 2.06.94-2.06 2.06-.94-2.06-.94-.94-2.06-.94 2.06-2.06.94z\"/><path d=\"M17.41 7.96l-1.37-1.37c-.4-.4-.92-.59-1.43-.59-.52 0-1.04.2-1.43.59L10.3 9.45l-7.72 7.72c-.78.78-.78 2.05 0 2.83L4 21.41c.39.39.9.59 1.41.59.51 0 1.02-.2 1.41-.59l7.78-7.78 2.81-2.81c.8-.78.8-2.07 0-2.86zM5.41 20L4 18.59l7.72-7.72 1.47 1.35L5.41 20z\"/>\n",
       "  </svg>\n",
       "      </button>\n",
       "      \n",
       "  <style>\n",
       "    .colab-df-container {\n",
       "      display:flex;\n",
       "      flex-wrap:wrap;\n",
       "      gap: 12px;\n",
       "    }\n",
       "\n",
       "    .colab-df-convert {\n",
       "      background-color: #E8F0FE;\n",
       "      border: none;\n",
       "      border-radius: 50%;\n",
       "      cursor: pointer;\n",
       "      display: none;\n",
       "      fill: #1967D2;\n",
       "      height: 32px;\n",
       "      padding: 0 0 0 0;\n",
       "      width: 32px;\n",
       "    }\n",
       "\n",
       "    .colab-df-convert:hover {\n",
       "      background-color: #E2EBFA;\n",
       "      box-shadow: 0px 1px 2px rgba(60, 64, 67, 0.3), 0px 1px 3px 1px rgba(60, 64, 67, 0.15);\n",
       "      fill: #174EA6;\n",
       "    }\n",
       "\n",
       "    [theme=dark] .colab-df-convert {\n",
       "      background-color: #3B4455;\n",
       "      fill: #D2E3FC;\n",
       "    }\n",
       "\n",
       "    [theme=dark] .colab-df-convert:hover {\n",
       "      background-color: #434B5C;\n",
       "      box-shadow: 0px 1px 3px 1px rgba(0, 0, 0, 0.15);\n",
       "      filter: drop-shadow(0px 1px 2px rgba(0, 0, 0, 0.3));\n",
       "      fill: #FFFFFF;\n",
       "    }\n",
       "  </style>\n",
       "\n",
       "      <script>\n",
       "        const buttonEl =\n",
       "          document.querySelector('#df-4f0b7e90-6bf3-48eb-89a1-69f859c8079a button.colab-df-convert');\n",
       "        buttonEl.style.display =\n",
       "          google.colab.kernel.accessAllowed ? 'block' : 'none';\n",
       "\n",
       "        async function convertToInteractive(key) {\n",
       "          const element = document.querySelector('#df-4f0b7e90-6bf3-48eb-89a1-69f859c8079a');\n",
       "          const dataTable =\n",
       "            await google.colab.kernel.invokeFunction('convertToInteractive',\n",
       "                                                     [key], {});\n",
       "          if (!dataTable) return;\n",
       "\n",
       "          const docLinkHtml = 'Like what you see? Visit the ' +\n",
       "            '<a target=\"_blank\" href=https://colab.research.google.com/notebooks/data_table.ipynb>data table notebook</a>'\n",
       "            + ' to learn more about interactive tables.';\n",
       "          element.innerHTML = '';\n",
       "          dataTable['output_type'] = 'display_data';\n",
       "          await google.colab.output.renderOutput(dataTable, element);\n",
       "          const docLink = document.createElement('div');\n",
       "          docLink.innerHTML = docLinkHtml;\n",
       "          element.appendChild(docLink);\n",
       "        }\n",
       "      </script>\n",
       "    </div>\n",
       "  </div>\n",
       "  "
      ],
      "text/plain": [
       "   quote_id                                              quote character\n",
       "0         0  Yes, I’d like to speak to your office manager,...   Michael\n",
       "1         1  People say I am the best boss. They go, “God w...   Michael\n",
       "2         2  Corporate really doesn’t really interfere with...   Michael\n",
       "3         3  Am I going to tell them? No, I am not going to...   Michael\n",
       "4         4  I think I’m a role model here. I think I garne...   Michael"
      ]
     },
     "execution_count": 4,
     "metadata": {},
     "output_type": "execute_result"
    }
   ],
   "source": [
    "df.head()"
   ]
  },
  {
   "cell_type": "code",
   "execution_count": 5,
   "metadata": {
    "id": "8AFM5FbTaE5D"
   },
   "outputs": [],
   "source": [
    "## Preprocessing"
   ]
  },
  {
   "cell_type": "code",
   "execution_count": 6,
   "metadata": {
    "colab": {
     "base_uri": "https://localhost:8080/"
    },
    "id": "aNX7101zaG1y",
    "outputId": "ca845db3-883d-4662-b85d-c1b60bbbb32e"
   },
   "outputs": [
    {
     "name": "stderr",
     "output_type": "stream",
     "text": [
      "[nltk_data] Downloading package stopwords to /root/nltk_data...\n",
      "[nltk_data]   Package stopwords is already up-to-date!\n",
      "[nltk_data] Downloading package punkt to /root/nltk_data...\n",
      "[nltk_data]   Package punkt is already up-to-date!\n"
     ]
    }
   ],
   "source": [
    "# Normalize\n",
    "import nltk\n",
    "import re\n",
    "nltk.download('stopwords')\n",
    "nltk.download('punkt')\n",
    "stop_words = nltk.corpus.stopwords.words('english')\n",
    "\n",
    "\n",
    "def normalize_document(doc):\n",
    "    # lower case and remove special characters\\whitespaces\n",
    "    doc = re.sub(r'[^a-zA-Z0-9\\s]', '', doc, re.I|re.A)\n",
    "    doc = doc.lower()\n",
    "    doc = doc.strip()\n",
    "    # tokenize document\n",
    "    tokens = nltk.word_tokenize(doc)\n",
    "    # filter stopwords out of document\n",
    "    filtered_tokens = [token for token in tokens if token not in stop_words]\n",
    "    # re-create document from filtered tokens\n",
    "    doc = ' '.join(filtered_tokens)\n",
    "    return doc\n"
   ]
  },
  {
   "cell_type": "code",
   "execution_count": 7,
   "metadata": {
    "id": "n3ED5KQQaJoC"
   },
   "outputs": [],
   "source": [
    "df.quote = df.quote.apply(normalize_document)\n",
    "df.character = pd.Categorical(df.character)"
   ]
  },
  {
   "cell_type": "code",
   "execution_count": 8,
   "metadata": {
    "colab": {
     "base_uri": "https://localhost:8080/"
    },
    "id": "43QN4e3naoq_",
    "outputId": "5f67c413-ce0a-4aff-f2a0-e6bdc3718949"
   },
   "outputs": [
    {
     "name": "stdout",
     "output_type": "stream",
     "text": [
      "(1224,) (525,)\n"
     ]
    }
   ],
   "source": [
    "## Split train/test\n",
    "from sklearn.model_selection import train_test_split\n",
    "\n",
    "X_train, X_test, y_train, y_test = train_test_split(df.quote.values, df.character.cat.codes, test_size=0.3, random_state=42)\n",
    "print(X_train.shape, X_test.shape)"
   ]
  },
  {
   "cell_type": "code",
   "execution_count": 9,
   "metadata": {
    "id": "3u9Rwf1cbMBj"
   },
   "outputs": [],
   "source": [
    "## Tokenize and Padding"
   ]
  },
  {
   "cell_type": "code",
   "execution_count": 10,
   "metadata": {
    "id": "TIgofLmUcbJd"
   },
   "outputs": [],
   "source": [
    "def get_max_length(x_train):\n",
    "    review_length = []\n",
    "    for review in x_train:\n",
    "        review_length.append(len(review))\n",
    "\n",
    "    return int(np.ceil(np.mean(review_length)))"
   ]
  },
  {
   "cell_type": "code",
   "execution_count": 11,
   "metadata": {
    "id": "jQ8ty8npc6zr"
   },
   "outputs": [],
   "source": [
    "token = Tokenizer(lower=False)    # no need lower, because already lowered the data in load_data()\n",
    "token.fit_on_texts(X_train)\n",
    "X_train = token.texts_to_sequences(X_train)\n",
    "X_test = token.texts_to_sequences(X_test)\n",
    "\n",
    "max_length = get_max_length(X_train)\n",
    "\n",
    "X_train = pad_sequences(X_train, maxlen=max_length, padding='post', truncating='post')\n",
    "X_test = pad_sequences(X_test, maxlen=max_length, padding='post', truncating='post')\n",
    "\n",
    "total_words = len(token.word_index) + 1   # add 1 because of 0 padding"
   ]
  },
  {
   "cell_type": "code",
   "execution_count": 12,
   "metadata": {
    "colab": {
     "base_uri": "https://localhost:8080/"
    },
    "id": "44H2Qv_DbnNm",
    "outputId": "0ebc6e61-9b17-4445-b3e9-3c4771cda57a"
   },
   "outputs": [
    {
     "name": "stdout",
     "output_type": "stream",
     "text": [
      "X_train vector shape = (1224, 17)\n",
      "X_test vector shape = (525, 17)\n"
     ]
    }
   ],
   "source": [
    "print(\"X_train vector shape = {}\".format(X_train.shape))\n",
    "print(\"X_test vector shape = {}\".format(X_test.shape))"
   ]
  },
  {
   "cell_type": "code",
   "execution_count": 30,
   "metadata": {
    "id": "BUt3yB8zdez9"
   },
   "outputs": [],
   "source": [
    "## LSTM"
   ]
  },
  {
   "cell_type": "code",
   "execution_count": 27,
   "metadata": {
    "id": "TzpzbxQ6dyiM"
   },
   "outputs": [],
   "source": [
    "input_dim = 25000\n",
    "output_dim = 500\n",
    "def train_model(Optimizer, X_train, y_train, X_val, y_val, input, output):\n",
    "   model = Sequential()\n",
    "   model.add(Embedding(input_dim = input, output_dim = output))\n",
    "   model.add(LSTM(units=output))\n",
    "   model.add(Dense(units=1, activation='sigmoid'))\n",
    "   model.compile(loss='binary_crossentropy', optimizer = Optimizer, metrics=['accuracy'])\n",
    "   scores = model.fit(X_train, y_train, batch_size=output, epochs=20, validation_data=(X_val, y_val))\n",
    "   return scores, model"
   ]
  },
  {
   "cell_type": "code",
   "execution_count": 28,
   "metadata": {
    "colab": {
     "base_uri": "https://localhost:8080/"
    },
    "id": "RLH9tOxbePnD",
    "outputId": "9d20d38b-fa47-4795-ef17-146720154073"
   },
   "outputs": [
    {
     "name": "stdout",
     "output_type": "stream",
     "text": [
      "Epoch 1/20\n",
      "3/3 [==============================] - 9s 2s/step - loss: -0.7035 - accuracy: 0.1855 - val_loss: -11.0033 - val_accuracy: 0.1790\n",
      "Epoch 2/20\n",
      "3/3 [==============================] - 6s 2s/step - loss: -12.8334 - accuracy: 0.1797 - val_loss: -14.2165 - val_accuracy: 0.1829\n",
      "Epoch 3/20\n",
      "3/3 [==============================] - 7s 2s/step - loss: -16.3347 - accuracy: 0.2018 - val_loss: -15.6784 - val_accuracy: 0.1829\n",
      "Epoch 4/20\n",
      "3/3 [==============================] - 6s 2s/step - loss: -19.1222 - accuracy: 0.2459 - val_loss: -11.0196 - val_accuracy: 0.2267\n",
      "Epoch 5/20\n",
      "3/3 [==============================] - 6s 2s/step - loss: -19.7437 - accuracy: 0.2606 - val_loss: -17.3328 - val_accuracy: 0.1848\n",
      "Epoch 6/20\n",
      "3/3 [==============================] - 6s 2s/step - loss: -22.6599 - accuracy: 0.2639 - val_loss: -17.5204 - val_accuracy: 0.2114\n",
      "Epoch 7/20\n",
      "3/3 [==============================] - 6s 2s/step - loss: -24.2443 - accuracy: 0.2917 - val_loss: -18.1481 - val_accuracy: 0.2019\n",
      "Epoch 8/20\n",
      "3/3 [==============================] - 6s 2s/step - loss: -26.3209 - accuracy: 0.3096 - val_loss: -18.1818 - val_accuracy: 0.2152\n",
      "Epoch 9/20\n",
      "3/3 [==============================] - 7s 2s/step - loss: -27.7404 - accuracy: 0.3211 - val_loss: -19.8342 - val_accuracy: 0.2095\n",
      "Epoch 10/20\n",
      "3/3 [==============================] - 6s 2s/step - loss: -28.9502 - accuracy: 0.3235 - val_loss: -19.9220 - val_accuracy: 0.2171\n",
      "Epoch 11/20\n",
      "3/3 [==============================] - 7s 2s/step - loss: -30.0016 - accuracy: 0.3301 - val_loss: -20.6389 - val_accuracy: 0.2076\n",
      "Epoch 12/20\n",
      "3/3 [==============================] - 7s 2s/step - loss: -31.2067 - accuracy: 0.3284 - val_loss: -20.7030 - val_accuracy: 0.2171\n",
      "Epoch 13/20\n",
      "3/3 [==============================] - 6s 2s/step - loss: -32.3845 - accuracy: 0.3333 - val_loss: -21.3892 - val_accuracy: 0.2210\n",
      "Epoch 14/20\n",
      "3/3 [==============================] - 6s 2s/step - loss: -33.5617 - accuracy: 0.3399 - val_loss: -22.0881 - val_accuracy: 0.2133\n",
      "Epoch 15/20\n",
      "3/3 [==============================] - 6s 2s/step - loss: -34.4778 - accuracy: 0.3407 - val_loss: -22.7505 - val_accuracy: 0.2076\n",
      "Epoch 16/20\n",
      "3/3 [==============================] - 6s 2s/step - loss: -35.6144 - accuracy: 0.3440 - val_loss: -22.2169 - val_accuracy: 0.2114\n",
      "Epoch 17/20\n",
      "3/3 [==============================] - 6s 2s/step - loss: -36.6860 - accuracy: 0.3448 - val_loss: -22.8983 - val_accuracy: 0.2076\n",
      "Epoch 18/20\n",
      "3/3 [==============================] - 6s 2s/step - loss: -37.6913 - accuracy: 0.3472 - val_loss: -24.0085 - val_accuracy: 0.2114\n",
      "Epoch 19/20\n",
      "3/3 [==============================] - 6s 2s/step - loss: -38.4819 - accuracy: 0.3480 - val_loss: -22.5698 - val_accuracy: 0.2171\n",
      "Epoch 20/20\n",
      "3/3 [==============================] - 6s 2s/step - loss: -39.1933 - accuracy: 0.3366 - val_loss: -25.2673 - val_accuracy: 0.2152\n"
     ]
    }
   ],
   "source": [
    "\n",
    "RMSprop_score, RMSprop_model = train_model('RMSprop', X_train, y_train, X_test, y_test, input_dim, output_dim)"
   ]
  },
  {
   "cell_type": "code",
   "execution_count": 18,
   "metadata": {
    "colab": {
     "base_uri": "https://localhost:8080/",
     "height": 295
    },
    "id": "Ww31YFC6eVm0",
    "outputId": "7226187c-dc3b-4fb6-c1f4-12871d601eee"
   },
   "outputs": [
    {
     "data": {
      "image/png": "[encoded data removed]",
      "text/plain": [
       "<Figure size 432x288 with 1 Axes>"
      ]
     },
     "metadata": {
      "needs_background": "light"
     },
     "output_type": "display_data"
    }
   ],
   "source": [
    "plt.plot(range(1,11), RMSprop_score.history['accuracy'], label='Training Accuracy') \n",
    "plt.plot(range(1,11), RMSprop_score.history['val_accuracy'], label='Validation Accuracy')\n",
    "plt.axis([1, 10, 0, 1])\n",
    "plt.xlabel('Epoch')\n",
    "plt.ylabel('Accuracy')\n",
    "plt.title('Train and Validation Accuracy using RMSprop Optimizer')\n",
    "plt.legend()\n",
    "plt.show()"
   ]
  },
  {
   "cell_type": "markdown",
   "metadata": {
    "id": "uhKAnWINkFuH"
   },
   "source": [
    "I was curious about LSTM for this dataset and it's not very peformant. Will Try alternative methods"
   ]
  },
  {
   "cell_type": "code",
   "execution_count": 35,
   "metadata": {
    "id": "Ml_FX-hQksuU"
   },
   "outputs": [],
   "source": [
    "## Exploring other methods"
   ]
  },
  {
   "cell_type": "code",
   "execution_count": 33,
   "metadata": {
    "colab": {
     "base_uri": "https://localhost:8080/"
    },
    "id": "tkj5S2bekSjW",
    "outputId": "acdc48cf-a066-4eeb-9382-1c24ce4998ca"
   },
   "outputs": [
    {
     "name": "stdout",
     "output_type": "stream",
     "text": [
      "(1224,) (525,)\n"
     ]
    }
   ],
   "source": [
    "X_train, X_test, y_train, y_test = train_test_split(df.quote.values, df.character.cat.codes, test_size=0.3, random_state=42)\n",
    "print(X_train.shape, X_test.shape)"
   ]
  },
  {
   "cell_type": "code",
   "execution_count": 34,
   "metadata": {
    "id": "c1sXe8Yakr3E"
   },
   "outputs": [],
   "source": [
    "## Count Vectors\n",
    "from sklearn.feature_extraction.text import CountVectorizer\n",
    "cv = CountVectorizer(ngram_range=(1,1))\n",
    "\n",
    "# Train matrix\n",
    "cv_matrix_train = cv.fit_transform(X_train)\n",
    "cv_matrix_train = cv_matrix_train.toarray()\n",
    "\n",
    "# Test matrix\n",
    "cv_matrix_test = cv.transform(X_test)\n",
    "cv_matrix_test = cv_matrix_test.toarray()"
   ]
  },
  {
   "cell_type": "code",
   "execution_count": 36,
   "metadata": {
    "id": "jQrd8eZvlO_z"
   },
   "outputs": [],
   "source": [
    "## TF-IDF\n",
    "from sklearn.feature_extraction.text import TfidfTransformer\n",
    "tt = TfidfTransformer(norm='l2', use_idf=True, smooth_idf=True)\n",
    "\n",
    "# Train\n",
    "tt_matrix_train = tt.fit_transform(cv_matrix_train)\n",
    "tt_matrix_train = tt_matrix_train.toarray()\n",
    "\n",
    "# Test\n",
    "tt_matrix_test = tt.transform(cv_matrix_test)\n",
    "tt_matrix_test = tt_matrix_test.toarray()"
   ]
  },
  {
   "cell_type": "code",
   "execution_count": 38,
   "metadata": {
    "id": "DpIP3TzImJk0"
   },
   "outputs": [],
   "source": [
    "## Train Models"
   ]
  },
  {
   "cell_type": "code",
   "execution_count": 39,
   "metadata": {
    "id": "ozXo3ssRmU4s"
   },
   "outputs": [],
   "source": [
    "from sklearn.naive_bayes import MultinomialNB\n",
    "from sklearn.linear_model import LogisticRegression\n",
    "from sklearn.svm import LinearSVC\n",
    "from sklearn.linear_model import SGDClassifier\n",
    "from sklearn.ensemble import RandomForestClassifier\n",
    "from sklearn.ensemble import GradientBoostingClassifier\n",
    "from sklearn.model_selection import cross_val_score"
   ]
  },
  {
   "cell_type": "code",
   "execution_count": 40,
   "metadata": {
    "id": "O1ak4UUXmWxm"
   },
   "outputs": [],
   "source": [
    "def train(model, train_x, train_y, test_x, test_y):\n",
    "    model.fit(train_x, train_y)\n",
    "    cv_scores = cross_val_score(model, train_x, train_y, cv=5)\n",
    "    mean_score = np.mean(cv_scores)\n",
    "    test_score = model.score(test_x, test_y)\n",
    "    \n",
    "    return cv_scores, mean_score, test_score"
   ]
  },
  {
   "cell_type": "code",
   "execution_count": 41,
   "metadata": {
    "id": "odK2gmH7mYf0"
   },
   "outputs": [],
   "source": [
    "classifiers = {\n",
    "    \"multiNB\": {\n",
    "        \"model\": MultinomialNB(alpha=1)\n",
    "    },\n",
    "    \"log_reg\": {\n",
    "        \"model\": LogisticRegression(penalty='l2', max_iter=100, C=1, random_state=42)\n",
    "    },\n",
    "    \"svc\": {\n",
    "        \"model\": LinearSVC(penalty='l2', C=1, random_state=42)\n",
    "    },\n",
    "    \"sgd\": {\n",
    "        \"model\": SGDClassifier(loss='hinge', penalty='l2', max_iter=100, random_state=42)\n",
    "    },\n",
    "    \"random_forest\": {\n",
    "        \"model\": RandomForestClassifier(n_estimators=10, random_state=42)\n",
    "    },\n",
    "    \"gradient_boost\": {\n",
    "        \"model\": GradientBoostingClassifier(n_estimators=10, random_state=42)\n",
    "    }\n",
    "}"
   ]
  },
  {
   "cell_type": "code",
   "execution_count": 42,
   "metadata": {
    "colab": {
     "base_uri": "https://localhost:8080/"
    },
    "id": "25Wir7g6mbHy",
    "outputId": "9b9fc7c7-0f27-475e-e0af-51a0ae87b521"
   },
   "outputs": [
    {
     "name": "stdout",
     "output_type": "stream",
     "text": [
      "Training multiNB:\n",
      "Training log_reg:\n",
      "Training svc:\n",
      "Training sgd:\n",
      "Training random_forest:\n",
      "Training gradient_boost:\n"
     ]
    }
   ],
   "source": [
    "for key,val in classifiers.items():\n",
    "    print(f\"Training {key}:\")\n",
    "    cv_score, mean_score, test_score = train(val[\"model\"], tt_matrix_train, y_train, tt_matrix_test, y_test)\n",
    "    val[\"cv_score\"] = cv_score\n",
    "    val[\"mean_score\"] = mean_score\n",
    "    val[\"test_score\"] = test_score"
   ]
  },
  {
   "cell_type": "code",
   "execution_count": 43,
   "metadata": {
    "colab": {
     "base_uri": "https://localhost:8080/",
     "height": 271
    },
    "id": "NZDL-MbJmds0",
    "outputId": "065870fe-9837-4f99-cc04-529da50288cb"
   },
   "outputs": [
    {
     "data": {
      "text/html": [
       "\n",
       "  <div id=\"df-8fe35ec1-5e27-4ebb-8392-dd92dc565dfb\">\n",
       "    <div class=\"colab-df-container\">\n",
       "      <div>\n",
       "<style scoped>\n",
       "    .dataframe tbody tr th:only-of-type {\n",
       "        vertical-align: middle;\n",
       "    }\n",
       "\n",
       "    .dataframe tbody tr th {\n",
       "        vertical-align: top;\n",
       "    }\n",
       "\n",
       "    .dataframe thead th {\n",
       "        text-align: right;\n",
       "    }\n",
       "</style>\n",
       "<table border=\"1\" class=\"dataframe\">\n",
       "  <thead>\n",
       "    <tr style=\"text-align: right;\">\n",
       "      <th></th>\n",
       "      <th>multiNB</th>\n",
       "      <th>log_reg</th>\n",
       "      <th>svc</th>\n",
       "      <th>sgd</th>\n",
       "      <th>random_forest</th>\n",
       "      <th>gradient_boost</th>\n",
       "    </tr>\n",
       "  </thead>\n",
       "  <tbody>\n",
       "    <tr>\n",
       "      <th>model</th>\n",
       "      <td>MultinomialNB(alpha=1)</td>\n",
       "      <td>LogisticRegression(C=1, random_state=42)</td>\n",
       "      <td>LinearSVC(C=1, random_state=42)</td>\n",
       "      <td>SGDClassifier(max_iter=100, random_state=42)</td>\n",
       "      <td>(DecisionTreeClassifier(max_features='auto', r...</td>\n",
       "      <td>([DecisionTreeRegressor(criterion='friedman_ms...</td>\n",
       "    </tr>\n",
       "    <tr>\n",
       "      <th>cv_score</th>\n",
       "      <td>[0.43673469387755104, 0.42857142857142855, 0.4...</td>\n",
       "      <td>[0.4530612244897959, 0.4448979591836735, 0.477...</td>\n",
       "      <td>[0.43673469387755104, 0.47346938775510206, 0.5...</td>\n",
       "      <td>[0.4163265306122449, 0.46122448979591835, 0.45...</td>\n",
       "      <td>[0.42857142857142855, 0.46122448979591835, 0.4...</td>\n",
       "      <td>[0.4448979591836735, 0.43673469387755104, 0.43...</td>\n",
       "    </tr>\n",
       "    <tr>\n",
       "      <th>mean_score</th>\n",
       "      <td>0.433827</td>\n",
       "      <td>0.45999</td>\n",
       "      <td>0.469776</td>\n",
       "      <td>0.445269</td>\n",
       "      <td>0.446875</td>\n",
       "      <td>0.437093</td>\n",
       "    </tr>\n",
       "    <tr>\n",
       "      <th>test_score</th>\n",
       "      <td>0.426667</td>\n",
       "      <td>0.48</td>\n",
       "      <td>0.481905</td>\n",
       "      <td>0.459048</td>\n",
       "      <td>0.453333</td>\n",
       "      <td>0.447619</td>\n",
       "    </tr>\n",
       "  </tbody>\n",
       "</table>\n",
       "</div>\n",
       "      <button class=\"colab-df-convert\" onclick=\"convertToInteractive('df-8fe35ec1-5e27-4ebb-8392-dd92dc565dfb')\"\n",
       "              title=\"Convert this dataframe to an interactive table.\"\n",
       "              style=\"display:none;\">\n",
       "        \n",
       "  <svg xmlns=\"http://www.w3.org/2000/svg\" height=\"24px\"viewBox=\"0 0 24 24\"\n",
       "       width=\"24px\">\n",
       "    <path d=\"M0 0h24v24H0V0z\" fill=\"none\"/>\n",
       "    <path d=\"M18.56 5.44l.94 2.06.94-2.06 2.06-.94-2.06-.94-.94-2.06-.94 2.06-2.06.94zm-11 1L8.5 8.5l.94-2.06 2.06-.94-2.06-.94L8.5 2.5l-.94 2.06-2.06.94zm10 10l.94 2.06.94-2.06 2.06-.94-2.06-.94-.94-2.06-.94 2.06-2.06.94z\"/><path d=\"M17.41 7.96l-1.37-1.37c-.4-.4-.92-.59-1.43-.59-.52 0-1.04.2-1.43.59L10.3 9.45l-7.72 7.72c-.78.78-.78 2.05 0 2.83L4 21.41c.39.39.9.59 1.41.59.51 0 1.02-.2 1.41-.59l7.78-7.78 2.81-2.81c.8-.78.8-2.07 0-2.86zM5.41 20L4 18.59l7.72-7.72 1.47 1.35L5.41 20z\"/>\n",
       "  </svg>\n",
       "      </button>\n",
       "      \n",
       "  <style>\n",
       "    .colab-df-container {\n",
       "      display:flex;\n",
       "      flex-wrap:wrap;\n",
       "      gap: 12px;\n",
       "    }\n",
       "\n",
       "    .colab-df-convert {\n",
       "      background-color: #E8F0FE;\n",
       "      border: none;\n",
       "      border-radius: 50%;\n",
       "      cursor: pointer;\n",
       "      display: none;\n",
       "      fill: #1967D2;\n",
       "      height: 32px;\n",
       "      padding: 0 0 0 0;\n",
       "      width: 32px;\n",
       "    }\n",
       "\n",
       "    .colab-df-convert:hover {\n",
       "      background-color: #E2EBFA;\n",
       "      box-shadow: 0px 1px 2px rgba(60, 64, 67, 0.3), 0px 1px 3px 1px rgba(60, 64, 67, 0.15);\n",
       "      fill: #174EA6;\n",
       "    }\n",
       "\n",
       "    [theme=dark] .colab-df-convert {\n",
       "      background-color: #3B4455;\n",
       "      fill: #D2E3FC;\n",
       "    }\n",
       "\n",
       "    [theme=dark] .colab-df-convert:hover {\n",
       "      background-color: #434B5C;\n",
       "      box-shadow: 0px 1px 3px 1px rgba(0, 0, 0, 0.15);\n",
       "      filter: drop-shadow(0px 1px 2px rgba(0, 0, 0, 0.3));\n",
       "      fill: #FFFFFF;\n",
       "    }\n",
       "  </style>\n",
       "\n",
       "      <script>\n",
       "        const buttonEl =\n",
       "          document.querySelector('#df-8fe35ec1-5e27-4ebb-8392-dd92dc565dfb button.colab-df-convert');\n",
       "        buttonEl.style.display =\n",
       "          google.colab.kernel.accessAllowed ? 'block' : 'none';\n",
       "\n",
       "        async function convertToInteractive(key) {\n",
       "          const element = document.querySelector('#df-8fe35ec1-5e27-4ebb-8392-dd92dc565dfb');\n",
       "          const dataTable =\n",
       "            await google.colab.kernel.invokeFunction('convertToInteractive',\n",
       "                                                     [key], {});\n",
       "          if (!dataTable) return;\n",
       "\n",
       "          const docLinkHtml = 'Like what you see? Visit the ' +\n",
       "            '<a target=\"_blank\" href=https://colab.research.google.com/notebooks/data_table.ipynb>data table notebook</a>'\n",
       "            + ' to learn more about interactive tables.';\n",
       "          element.innerHTML = '';\n",
       "          dataTable['output_type'] = 'display_data';\n",
       "          await google.colab.output.renderOutput(dataTable, element);\n",
       "          const docLink = document.createElement('div');\n",
       "          docLink.innerHTML = docLinkHtml;\n",
       "          element.appendChild(docLink);\n",
       "        }\n",
       "      </script>\n",
       "    </div>\n",
       "  </div>\n",
       "  "
      ],
      "text/plain": [
       "                                                      multiNB  \\\n",
       "model                                  MultinomialNB(alpha=1)   \n",
       "cv_score    [0.43673469387755104, 0.42857142857142855, 0.4...   \n",
       "mean_score                                           0.433827   \n",
       "test_score                                           0.426667   \n",
       "\n",
       "                                                      log_reg  \\\n",
       "model                LogisticRegression(C=1, random_state=42)   \n",
       "cv_score    [0.4530612244897959, 0.4448979591836735, 0.477...   \n",
       "mean_score                                            0.45999   \n",
       "test_score                                               0.48   \n",
       "\n",
       "                                                          svc  \\\n",
       "model                         LinearSVC(C=1, random_state=42)   \n",
       "cv_score    [0.43673469387755104, 0.47346938775510206, 0.5...   \n",
       "mean_score                                           0.469776   \n",
       "test_score                                           0.481905   \n",
       "\n",
       "                                                          sgd  \\\n",
       "model            SGDClassifier(max_iter=100, random_state=42)   \n",
       "cv_score    [0.4163265306122449, 0.46122448979591835, 0.45...   \n",
       "mean_score                                           0.445269   \n",
       "test_score                                           0.459048   \n",
       "\n",
       "                                                random_forest  \\\n",
       "model       (DecisionTreeClassifier(max_features='auto', r...   \n",
       "cv_score    [0.42857142857142855, 0.46122448979591835, 0.4...   \n",
       "mean_score                                           0.446875   \n",
       "test_score                                           0.453333   \n",
       "\n",
       "                                               gradient_boost  \n",
       "model       ([DecisionTreeRegressor(criterion='friedman_ms...  \n",
       "cv_score    [0.4448979591836735, 0.43673469387755104, 0.43...  \n",
       "mean_score                                           0.437093  \n",
       "test_score                                           0.447619  "
      ]
     },
     "execution_count": 43,
     "metadata": {},
     "output_type": "execute_result"
    }
   ],
   "source": [
    "pd.DataFrame.from_dict(classifiers)"
   ]
  },
  {
   "cell_type": "markdown",
   "metadata": {
    "id": "KyWpYX4XnR1C"
   },
   "source": [
    "SVC is the most performant so that will be my model of choice"
   ]
  },
  {
   "cell_type": "code",
   "execution_count": 46,
   "metadata": {
    "id": "Lim5-kKum_lK"
   },
   "outputs": [],
   "source": [
    "## Main Functionality: Prediction"
   ]
  },
  {
   "cell_type": "code",
   "execution_count": 54,
   "metadata": {
    "id": "uloETkYcnkyB"
   },
   "outputs": [],
   "source": [
    "labels = dict( enumerate(df['character'].cat.categories ) )\n",
    "def predict(model, x_test, y_test, labels):\n",
    "  preds = classifiers[\"svc\"][\"model\"].predict(tt_matrix_test)\n",
    "  df_results = pd.DataFrame()\n",
    "  df_results[\"quote\"] = X_test\n",
    "  df_results[\"target_label\"] = np.array(y_test)\n",
    "  df_results[\"target_name\"] = df_results[\"target_label\"].replace(labels)\n",
    "  df_results[\"predicted_label\"] = preds\n",
    "  df_results[\"predicted_name\"] = df_results[\"predicted_label\"].replace(labels)\n",
    "\n",
    "  return df_results"
   ]
  },
  {
   "cell_type": "code",
   "execution_count": 55,
   "metadata": {
    "colab": {
     "base_uri": "https://localhost:8080/",
     "height": 424
    },
    "id": "AtEJz5EcpO1F",
    "outputId": "63b9a3e5-d79e-41bf-cb1e-0989600e1447"
   },
   "outputs": [
    {
     "data": {
      "text/html": [
       "\n",
       "  <div id=\"df-35a54d17-5830-487c-9432-cf214bad4551\">\n",
       "    <div class=\"colab-df-container\">\n",
       "      <div>\n",
       "<style scoped>\n",
       "    .dataframe tbody tr th:only-of-type {\n",
       "        vertical-align: middle;\n",
       "    }\n",
       "\n",
       "    .dataframe tbody tr th {\n",
       "        vertical-align: top;\n",
       "    }\n",
       "\n",
       "    .dataframe thead th {\n",
       "        text-align: right;\n",
       "    }\n",
       "</style>\n",
       "<table border=\"1\" class=\"dataframe\">\n",
       "  <thead>\n",
       "    <tr style=\"text-align: right;\">\n",
       "      <th></th>\n",
       "      <th>quote</th>\n",
       "      <th>target_label</th>\n",
       "      <th>target_name</th>\n",
       "      <th>predicted_label</th>\n",
       "      <th>predicted_name</th>\n",
       "    </tr>\n",
       "  </thead>\n",
       "  <tbody>\n",
       "    <tr>\n",
       "      <th>0</th>\n",
       "      <td>two whistleblowers two always thought darryl p...</td>\n",
       "      <td>2</td>\n",
       "      <td>Michael</td>\n",
       "      <td>1</td>\n",
       "      <td>Jim</td>\n",
       "    </tr>\n",
       "    <tr>\n",
       "      <th>1</th>\n",
       "      <td>comanaging give take pick battles one battles ...</td>\n",
       "      <td>1</td>\n",
       "      <td>Jim</td>\n",
       "      <td>2</td>\n",
       "      <td>Michael</td>\n",
       "    </tr>\n",
       "    <tr>\n",
       "      <th>2</th>\n",
       "      <td>yes decided shun andy bernard next three years...</td>\n",
       "      <td>0</td>\n",
       "      <td>Dwight</td>\n",
       "      <td>0</td>\n",
       "      <td>Dwight</td>\n",
       "    </tr>\n",
       "    <tr>\n",
       "      <th>3</th>\n",
       "      <td>see thats christmas see someone open gift thin...</td>\n",
       "      <td>2</td>\n",
       "      <td>Michael</td>\n",
       "      <td>1</td>\n",
       "      <td>Jim</td>\n",
       "    </tr>\n",
       "    <tr>\n",
       "      <th>4</th>\n",
       "      <td>heres thing company screws best thing call pre...</td>\n",
       "      <td>2</td>\n",
       "      <td>Michael</td>\n",
       "      <td>2</td>\n",
       "      <td>Michael</td>\n",
       "    </tr>\n",
       "    <tr>\n",
       "      <th>...</th>\n",
       "      <td>...</td>\n",
       "      <td>...</td>\n",
       "      <td>...</td>\n",
       "      <td>...</td>\n",
       "      <td>...</td>\n",
       "    </tr>\n",
       "    <tr>\n",
       "      <th>520</th>\n",
       "      <td>know pam pretty well know things likes importa...</td>\n",
       "      <td>1</td>\n",
       "      <td>Jim</td>\n",
       "      <td>2</td>\n",
       "      <td>Michael</td>\n",
       "    </tr>\n",
       "    <tr>\n",
       "      <th>521</th>\n",
       "      <td>whos ready work</td>\n",
       "      <td>0</td>\n",
       "      <td>Dwight</td>\n",
       "      <td>0</td>\n",
       "      <td>Dwight</td>\n",
       "    </tr>\n",
       "    <tr>\n",
       "      <th>522</th>\n",
       "      <td>dont need friends pam plenty female friends mo...</td>\n",
       "      <td>2</td>\n",
       "      <td>Michael</td>\n",
       "      <td>1</td>\n",
       "      <td>Jim</td>\n",
       "    </tr>\n",
       "    <tr>\n",
       "      <th>523</th>\n",
       "      <td>didnt tell michael thought hed try help exampl...</td>\n",
       "      <td>1</td>\n",
       "      <td>Jim</td>\n",
       "      <td>3</td>\n",
       "      <td>Pam</td>\n",
       "    </tr>\n",
       "    <tr>\n",
       "      <th>524</th>\n",
       "      <td>feel bad havent bonded students im make friend...</td>\n",
       "      <td>0</td>\n",
       "      <td>Dwight</td>\n",
       "      <td>2</td>\n",
       "      <td>Michael</td>\n",
       "    </tr>\n",
       "  </tbody>\n",
       "</table>\n",
       "<p>525 rows × 5 columns</p>\n",
       "</div>\n",
       "      <button class=\"colab-df-convert\" onclick=\"convertToInteractive('df-35a54d17-5830-487c-9432-cf214bad4551')\"\n",
       "              title=\"Convert this dataframe to an interactive table.\"\n",
       "              style=\"display:none;\">\n",
       "        \n",
       "  <svg xmlns=\"http://www.w3.org/2000/svg\" height=\"24px\"viewBox=\"0 0 24 24\"\n",
       "       width=\"24px\">\n",
       "    <path d=\"M0 0h24v24H0V0z\" fill=\"none\"/>\n",
       "    <path d=\"M18.56 5.44l.94 2.06.94-2.06 2.06-.94-2.06-.94-.94-2.06-.94 2.06-2.06.94zm-11 1L8.5 8.5l.94-2.06 2.06-.94-2.06-.94L8.5 2.5l-.94 2.06-2.06.94zm10 10l.94 2.06.94-2.06 2.06-.94-2.06-.94-.94-2.06-.94 2.06-2.06.94z\"/><path d=\"M17.41 7.96l-1.37-1.37c-.4-.4-.92-.59-1.43-.59-.52 0-1.04.2-1.43.59L10.3 9.45l-7.72 7.72c-.78.78-.78 2.05 0 2.83L4 21.41c.39.39.9.59 1.41.59.51 0 1.02-.2 1.41-.59l7.78-7.78 2.81-2.81c.8-.78.8-2.07 0-2.86zM5.41 20L4 18.59l7.72-7.72 1.47 1.35L5.41 20z\"/>\n",
       "  </svg>\n",
       "      </button>\n",
       "      \n",
       "  <style>\n",
       "    .colab-df-container {\n",
       "      display:flex;\n",
       "      flex-wrap:wrap;\n",
       "      gap: 12px;\n",
       "    }\n",
       "\n",
       "    .colab-df-convert {\n",
       "      background-color: #E8F0FE;\n",
       "      border: none;\n",
       "      border-radius: 50%;\n",
       "      cursor: pointer;\n",
       "      display: none;\n",
       "      fill: #1967D2;\n",
       "      height: 32px;\n",
       "      padding: 0 0 0 0;\n",
       "      width: 32px;\n",
       "    }\n",
       "\n",
       "    .colab-df-convert:hover {\n",
       "      background-color: #E2EBFA;\n",
       "      box-shadow: 0px 1px 2px rgba(60, 64, 67, 0.3), 0px 1px 3px 1px rgba(60, 64, 67, 0.15);\n",
       "      fill: #174EA6;\n",
       "    }\n",
       "\n",
       "    [theme=dark] .colab-df-convert {\n",
       "      background-color: #3B4455;\n",
       "      fill: #D2E3FC;\n",
       "    }\n",
       "\n",
       "    [theme=dark] .colab-df-convert:hover {\n",
       "      background-color: #434B5C;\n",
       "      box-shadow: 0px 1px 3px 1px rgba(0, 0, 0, 0.15);\n",
       "      filter: drop-shadow(0px 1px 2px rgba(0, 0, 0, 0.3));\n",
       "      fill: #FFFFFF;\n",
       "    }\n",
       "  </style>\n",
       "\n",
       "      <script>\n",
       "        const buttonEl =\n",
       "          document.querySelector('#df-35a54d17-5830-487c-9432-cf214bad4551 button.colab-df-convert');\n",
       "        buttonEl.style.display =\n",
       "          google.colab.kernel.accessAllowed ? 'block' : 'none';\n",
       "\n",
       "        async function convertToInteractive(key) {\n",
       "          const element = document.querySelector('#df-35a54d17-5830-487c-9432-cf214bad4551');\n",
       "          const dataTable =\n",
       "            await google.colab.kernel.invokeFunction('convertToInteractive',\n",
       "                                                     [key], {});\n",
       "          if (!dataTable) return;\n",
       "\n",
       "          const docLinkHtml = 'Like what you see? Visit the ' +\n",
       "            '<a target=\"_blank\" href=https://colab.research.google.com/notebooks/data_table.ipynb>data table notebook</a>'\n",
       "            + ' to learn more about interactive tables.';\n",
       "          element.innerHTML = '';\n",
       "          dataTable['output_type'] = 'display_data';\n",
       "          await google.colab.output.renderOutput(dataTable, element);\n",
       "          const docLink = document.createElement('div');\n",
       "          docLink.innerHTML = docLinkHtml;\n",
       "          element.appendChild(docLink);\n",
       "        }\n",
       "      </script>\n",
       "    </div>\n",
       "  </div>\n",
       "  "
      ],
      "text/plain": [
       "                                                 quote  target_label  \\\n",
       "0    two whistleblowers two always thought darryl p...             2   \n",
       "1    comanaging give take pick battles one battles ...             1   \n",
       "2    yes decided shun andy bernard next three years...             0   \n",
       "3    see thats christmas see someone open gift thin...             2   \n",
       "4    heres thing company screws best thing call pre...             2   \n",
       "..                                                 ...           ...   \n",
       "520  know pam pretty well know things likes importa...             1   \n",
       "521                                    whos ready work             0   \n",
       "522  dont need friends pam plenty female friends mo...             2   \n",
       "523  didnt tell michael thought hed try help exampl...             1   \n",
       "524  feel bad havent bonded students im make friend...             0   \n",
       "\n",
       "    target_name  predicted_label predicted_name  \n",
       "0       Michael                1            Jim  \n",
       "1           Jim                2        Michael  \n",
       "2        Dwight                0         Dwight  \n",
       "3       Michael                1            Jim  \n",
       "4       Michael                2        Michael  \n",
       "..          ...              ...            ...  \n",
       "520         Jim                2        Michael  \n",
       "521      Dwight                0         Dwight  \n",
       "522     Michael                1            Jim  \n",
       "523         Jim                3            Pam  \n",
       "524      Dwight                2        Michael  \n",
       "\n",
       "[525 rows x 5 columns]"
      ]
     },
     "execution_count": 55,
     "metadata": {},
     "output_type": "execute_result"
    }
   ],
   "source": [
    "predict(classifiers[\"svc\"][\"model\"], tt_matrix_test, y_test, labels)"
   ]
  },
  {
   "cell_type": "markdown",
   "metadata": {
    "id": "aDzqmfAApzXZ"
   },
   "source": [
    "This is a fun project and I feel I've managed milestones and expectations well as a solo project contributor. I'm happy I was able to implement the neural network knowledge we learned during this weeks lecture. I think if the dataset was larger, the NN would be more performant. Overall, I'm on pace and should complete this project as I projected."
   ]
  },
  {
   "cell_type": "code",
   "execution_count": null,
   "metadata": {
    "id": "6QrxLQZlpaWM"
   },
   "outputs": [],
   "source": []
  }
 ],
 "metadata": {
  "colab": {
   "collapsed_sections": [],
   "provenance": []
  },
  "kernelspec": {
   "display_name": "Python 3",
   "language": "python",
   "name": "python3"
  },
  "language_info": {
   "codemirror_mode": {
    "name": "ipython",
    "version": 3
   },
   "file_extension": ".py",
   "mimetype": "text/x-python",
   "name": "python",
   "nbconvert_exporter": "python",
   "pygments_lexer": "ipython3",
   "version": "3.8.8"
  }
 },
 "nbformat": 4,
 "nbformat_minor": 1
}
