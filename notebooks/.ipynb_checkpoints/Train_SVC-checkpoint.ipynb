{
 "cells": [
  {
   "cell_type": "code",
   "execution_count": 4,
   "id": "7ffe3871",
   "metadata": {},
   "outputs": [],
   "source": [
    "import pandas as pd\n",
    "import numpy as np\n",
    "import nltk\n",
    "import re\n",
    "from sklearn.model_selection import train_test_split"
   ]
  },
  {
   "cell_type": "markdown",
   "id": "9ba44fe6",
   "metadata": {},
   "source": [
    "### Split Data for Training and Application"
   ]
  },
  {
   "cell_type": "code",
   "execution_count": 5,
   "id": "6462effa",
   "metadata": {},
   "outputs": [],
   "source": [
    "df = pd.read_csv('../data/talking_head.csv')\n",
    "train, test, _,__ = train_test_split(df, df.character, test_size=0.1, random_state=42)\n",
    "train.to_csv(\"../data/training.csv\", index=False)\n",
    "test.to_csv(\"../data/test.csv\", index=False)"
   ]
  },
  {
   "cell_type": "markdown",
   "id": "19e96e58",
   "metadata": {},
   "source": [
    "### Load Data"
   ]
  },
  {
   "cell_type": "code",
   "execution_count": 6,
   "id": "a46185c9",
   "metadata": {},
   "outputs": [],
   "source": [
    "df = pd.read_csv(\"../data/training.csv\")"
   ]
  },
  {
   "cell_type": "markdown",
   "id": "34294b65",
   "metadata": {},
   "source": [
    "### Preprocessing"
   ]
  },
  {
   "cell_type": "code",
   "execution_count": 7,
   "id": "d6716829",
   "metadata": {},
   "outputs": [
    {
     "name": "stderr",
     "output_type": "stream",
     "text": [
      "[nltk_data] Downloading package stopwords to\n",
      "[nltk_data]     /Users/morrislagrand/nltk_data...\n",
      "[nltk_data]   Package stopwords is already up-to-date!\n",
      "[nltk_data] Downloading package punkt to\n",
      "[nltk_data]     /Users/morrislagrand/nltk_data...\n",
      "[nltk_data]   Package punkt is already up-to-date!\n"
     ]
    }
   ],
   "source": [
    "nltk.download('stopwords')\n",
    "nltk.download('punkt')\n",
    "stop_words = nltk.corpus.stopwords.words('english')"
   ]
  },
  {
   "cell_type": "code",
   "execution_count": 8,
   "id": "99c96e2b",
   "metadata": {},
   "outputs": [],
   "source": [
    "def normalize_document(doc):\n",
    "    # lower case and remove special characters\\whitespaces\n",
    "    doc = re.sub(r'[^a-zA-Z0-9\\s]', '', doc, re.I|re.A)\n",
    "    doc = doc.lower()\n",
    "    doc = doc.strip()\n",
    "    # tokenize document\n",
    "    tokens = nltk.word_tokenize(doc)\n",
    "    # filter stopwords out of document\n",
    "    filtered_tokens = [token for token in tokens if token not in stop_words]\n",
    "    # re-create document from filtered tokens\n",
    "    doc = ' '.join(filtered_tokens)\n",
    "    return doc"
   ]
  },
  {
   "cell_type": "code",
   "execution_count": 9,
   "id": "4f5580a0",
   "metadata": {},
   "outputs": [],
   "source": [
    "df.quote = df.quote.apply(normalize_document)\n",
    "df.character = pd.Categorical(df.character)"
   ]
  },
  {
   "cell_type": "code",
   "execution_count": 10,
   "id": "5b80d951",
   "metadata": {},
   "outputs": [
    {
     "name": "stdout",
     "output_type": "stream",
     "text": [
      "(1101,) (473,)\n"
     ]
    }
   ],
   "source": [
    "X_train, X_test, y_train, y_test = train_test_split(df.quote.values, df.character.cat.codes, test_size=0.3, random_state=42)\n",
    "print(X_train.shape, X_test.shape)"
   ]
  },
  {
   "cell_type": "markdown",
   "id": "b7682cd0",
   "metadata": {},
   "source": [
    "### SVC"
   ]
  },
  {
   "cell_type": "code",
   "execution_count": 11,
   "id": "2d6926e2",
   "metadata": {},
   "outputs": [],
   "source": [
    "from sklearn.svm import LinearSVC"
   ]
  },
  {
   "cell_type": "markdown",
   "id": "d3f89fe9",
   "metadata": {},
   "source": [
    "#### Count Vectors"
   ]
  },
  {
   "cell_type": "code",
   "execution_count": 12,
   "id": "a6e7cd37",
   "metadata": {},
   "outputs": [],
   "source": [
    "## Count Vectors\n",
    "from sklearn.feature_extraction.text import CountVectorizer\n",
    "cv = CountVectorizer(ngram_range=(1,1))\n",
    "\n",
    "# Train matrix\n",
    "cv_matrix_train = cv.fit_transform(X_train)\n",
    "cv_matrix_train = cv_matrix_train.toarray()\n",
    "\n",
    "# Test matrix\n",
    "cv_matrix_test = cv.transform(X_test)\n",
    "cv_matrix_test = cv_matrix_test.toarray()"
   ]
  },
  {
   "cell_type": "markdown",
   "id": "e895dde5",
   "metadata": {},
   "source": [
    "#### TF-IDF"
   ]
  },
  {
   "cell_type": "code",
   "execution_count": 13,
   "id": "180f8ea2",
   "metadata": {},
   "outputs": [],
   "source": [
    "from sklearn.feature_extraction.text import TfidfTransformer\n",
    "tt = TfidfTransformer(norm='l2', use_idf=True, smooth_idf=True)\n",
    "\n",
    "# Train\n",
    "tt_matrix_train = tt.fit_transform(cv_matrix_train)\n",
    "tt_matrix_train = tt_matrix_train.toarray()\n",
    "\n",
    "# Test\n",
    "tt_matrix_test = tt.transform(cv_matrix_test)\n",
    "tt_matrix_test = tt_matrix_test.toarray()"
   ]
  },
  {
   "cell_type": "markdown",
   "id": "b470c866",
   "metadata": {},
   "source": [
    "#### Train"
   ]
  },
  {
   "cell_type": "code",
   "execution_count": 14,
   "id": "17d120e7",
   "metadata": {},
   "outputs": [],
   "source": [
    "svc = LinearSVC(penalty='l2', C=1, random_state=42).fit(tt_matrix_train, y_train)"
   ]
  },
  {
   "cell_type": "code",
   "execution_count": 15,
   "id": "702a4c10",
   "metadata": {},
   "outputs": [
    {
     "data": {
      "text/plain": [
       "0.5010570824524313"
      ]
     },
     "execution_count": 15,
     "metadata": {},
     "output_type": "execute_result"
    }
   ],
   "source": [
    "svc.score(tt_matrix_test, y_test)"
   ]
  },
  {
   "cell_type": "markdown",
   "id": "967b60f0",
   "metadata": {},
   "source": [
    "#### Save Model results"
   ]
  },
  {
   "cell_type": "code",
   "execution_count": 16,
   "id": "98f03645",
   "metadata": {},
   "outputs": [],
   "source": [
    "import pickle"
   ]
  },
  {
   "cell_type": "code",
   "execution_count": 17,
   "id": "4331fba9",
   "metadata": {},
   "outputs": [],
   "source": [
    "# Save Count Vectors\n",
    "pickle.dump(cv, open(\"../models/cv.sav\", 'wb'))"
   ]
  },
  {
   "cell_type": "code",
   "execution_count": 18,
   "id": "02e6890b",
   "metadata": {},
   "outputs": [],
   "source": [
    "# Save TF-IDF\n",
    "pickle.dump(tt, open(\"../models/tt.sav\", 'wb'))"
   ]
  },
  {
   "cell_type": "code",
   "execution_count": 19,
   "id": "803754c6",
   "metadata": {},
   "outputs": [],
   "source": [
    "# Save SVC\n",
    "pickle.dump(svc, open(\"../models/svc.sav\", 'wb'))"
   ]
  },
  {
   "cell_type": "code",
   "execution_count": null,
   "id": "7bc57890",
   "metadata": {},
   "outputs": [],
   "source": []
  }
 ],
 "metadata": {
  "kernelspec": {
   "display_name": "Python 3",
   "language": "python",
   "name": "python3"
  },
  "language_info": {
   "codemirror_mode": {
    "name": "ipython",
    "version": 3
   },
   "file_extension": ".py",
   "mimetype": "text/x-python",
   "name": "python",
   "nbconvert_exporter": "python",
   "pygments_lexer": "ipython3",
   "version": "3.8.8"
  }
 },
 "nbformat": 4,
 "nbformat_minor": 5
}
